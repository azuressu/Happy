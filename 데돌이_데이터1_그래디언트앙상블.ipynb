{
 "cells": [
  {
   "cell_type": "code",
   "execution_count": 1,
   "metadata": {},
   "outputs": [],
   "source": [
    "import pandas as pd\n",
    "import numpy as np\n",
    "from sklearn.ensemble import GradientBoostingClassifier\n",
    "from sklearn.model_selection import train_test_split\n",
    "import matplotlib.pyplot as plt\n",
    "import mglearn"
   ]
  },
  {
   "cell_type": "markdown",
   "metadata": {},
   "source": [
    "# 그래디언트부스팅트리"
   ]
  },
  {
   "cell_type": "code",
   "execution_count": 2,
   "metadata": {},
   "outputs": [],
   "source": [
    "data = pd.read_csv(\"dataset/backorder_addcol.csv\")"
   ]
  },
  {
   "cell_type": "code",
   "execution_count": 3,
   "metadata": {},
   "outputs": [],
   "source": [
    "data = data.drop(['Unnamed: 0'], axis=1)"
   ]
  },
  {
   "cell_type": "code",
   "execution_count": 4,
   "metadata": {},
   "outputs": [],
   "source": [
    "X = np.array(data.drop(['went_on_backorder', 'sku'], axis=1))\n",
    "y = np.array(data['went_on_backorder'])"
   ]
  },
  {
   "cell_type": "code",
   "execution_count": 6,
   "metadata": {},
   "outputs": [],
   "source": [
    "X_train, X_test, y_train, y_test = train_test_split(X, y, test_size = 0.3, random_state = 0) # random_state는 그냥 무작위로 나눠"
   ]
  },
  {
   "cell_type": "code",
   "execution_count": 7,
   "metadata": {},
   "outputs": [
    {
     "data": {
      "text/plain": [
       "GradientBoostingClassifier(random_state=0)"
      ]
     },
     "execution_count": 7,
     "metadata": {},
     "output_type": "execute_result"
    }
   ],
   "source": [
    "gbrt = GradientBoostingClassifier(random_state=0)\n",
    "gbrt.fit(X_train, y_train)"
   ]
  },
  {
   "cell_type": "code",
   "execution_count": 8,
   "metadata": {},
   "outputs": [
    {
     "name": "stdout",
     "output_type": "stream",
     "text": [
      "train 정확도: 0.989\n",
      "test 정확도: 0.989\n"
     ]
    }
   ],
   "source": [
    "print(\"train 정확도: {:.3f}\".format(gbrt.score(X_train, y_train)))\n",
    "print(\"test 정확도: {:.3f}\".format(gbrt.score(X_test, y_test)))"
   ]
  },
  {
   "cell_type": "markdown",
   "metadata": {},
   "source": [
    "## 사전 가지치기"
   ]
  },
  {
   "cell_type": "code",
   "execution_count": 9,
   "metadata": {},
   "outputs": [
    {
     "data": {
      "text/plain": [
       "GradientBoostingClassifier(max_depth=5, random_state=0)"
      ]
     },
     "execution_count": 9,
     "metadata": {},
     "output_type": "execute_result"
    }
   ],
   "source": [
    "# 과대 적합 방지를 위한 사전 가지치기\n",
    "gbrt = GradientBoostingClassifier(random_state=0, max_depth=5)\n",
    "gbrt.fit(X_train, y_train)"
   ]
  },
  {
   "cell_type": "code",
   "execution_count": 10,
   "metadata": {},
   "outputs": [
    {
     "name": "stdout",
     "output_type": "stream",
     "text": [
      "train 정확도: 0.990\n",
      "test 정확도: 0.988\n"
     ]
    }
   ],
   "source": [
    "print(\"train 정확도: {:.3f}\".format(gbrt.score(X_train, y_train)))\n",
    "print(\"test 정확도: {:.3f}\".format(gbrt.score(X_test, y_test)))"
   ]
  },
  {
   "cell_type": "markdown",
   "metadata": {},
   "source": [
    "## 학습률 낮추기\n",
    "- 학습률이 크면 트리를 보정을 강하게 하기 때문에 복잡한 모델이 됨\n",
    "- n_estimators값을 키우면 앙상블에 트리가 더많이 추가되기 때문에 복잡도가 커짐"
   ]
  },
  {
   "cell_type": "code",
   "execution_count": 11,
   "metadata": {},
   "outputs": [
    {
     "data": {
      "text/plain": [
       "GradientBoostingClassifier(random_state=0)"
      ]
     },
     "execution_count": 11,
     "metadata": {},
     "output_type": "execute_result"
    }
   ],
   "source": [
    "gbrt = GradientBoostingClassifier(random_state=0, learning_rate = 0.1)\n",
    "gbrt.fit(X_train, y_train)"
   ]
  },
  {
   "cell_type": "code",
   "execution_count": 12,
   "metadata": {},
   "outputs": [
    {
     "name": "stdout",
     "output_type": "stream",
     "text": [
      "train 정확도: 0.989\n",
      "test 정확도: 0.989\n"
     ]
    }
   ],
   "source": [
    "print(\"train 정확도: {:.3f}\".format(gbrt.score(X_train, y_train)))\n",
    "print(\"test 정확도: {:.3f}\".format(gbrt.score(X_test, y_test)))"
   ]
  },
  {
   "cell_type": "markdown",
   "metadata": {},
   "source": [
    "## 특성 중요도 시각화"
   ]
  },
  {
   "cell_type": "code",
   "execution_count": 13,
   "metadata": {},
   "outputs": [],
   "source": [
    "data1 = data.drop(['went_on_backorder', 'sku'], axis=1)"
   ]
  },
  {
   "cell_type": "code",
   "execution_count": 14,
   "metadata": {},
   "outputs": [
    {
     "data": {
      "text/plain": [
       "Index(['national_inv', 'in_transit_qty', 'forecast_3_month',\n",
       "       'forecast_6_month', 'forecast_9_month', 'sales_1_month',\n",
       "       'sales_3_month', 'sales_6_month', 'sales_9_month', 'min_bank',\n",
       "       'potential_issue', 'pieces_past_due', 'perf_6_month_avg',\n",
       "       'perf_12_month_avg', 'local_bo_qty', 'deck_risk', 'oe_constraint',\n",
       "       'ppap_risk', 'stop_auto_buy', 'rev_stop', 'lead_time',\n",
       "       'forcast_1_month', 'forcast_sales_12_month',\n",
       "       'forcast_perf_1_month_avg'],\n",
       "      dtype='object')"
      ]
     },
     "execution_count": 14,
     "metadata": {},
     "output_type": "execute_result"
    }
   ],
   "source": [
    "data1.columns"
   ]
  },
  {
   "cell_type": "code",
   "execution_count": 15,
   "metadata": {},
   "outputs": [
    {
     "data": {
      "image/png": "[encoded data removed]",
      "text/plain": [
       "<Figure size 432x288 with 1 Axes>"
      ]
     },
     "metadata": {
      "needs_background": "light"
     },
     "output_type": "display_data"
    },
    {
     "data": {
      "text/plain": [
       "<Figure size 1800x1440 with 0 Axes>"
      ]
     },
     "metadata": {},
     "output_type": "display_data"
    }
   ],
   "source": [
    "def func(model):\n",
    "    n_features = data1.shape[1]\n",
    "    plt.barh(range(n_features), model.feature_importances_, align='center')\n",
    "    plt.yticks(np.arange(n_features), data1.columns)\n",
    "    plt.xlabel(\"importances\")\n",
    "    plt.ylabel(\"attr\")\n",
    "    plt.ylim(-1, n_features)\n",
    "    plt.figure(figsize=(25,20))\n",
    "plt.show()\n",
    "\n",
    "func(gbrt)"
   ]
  },
  {
   "cell_type": "markdown",
   "metadata": {},
   "source": [
    "- 그래디언트 부스팅 트리의 특성 중요도 그래프는 랜덤포레스트 특성 중요도와 비슷\n",
    "- 다만 그래디언트 부스팅은 일부 특성을 완전히 무시함\n",
    "- 비슷한 종류의 데이터에서 그래디언트 부스팅과 랜덤 포레스트 둘 다 작용\n",
    "- 보통 더 안정적인 랜덤포레스트 우선 적용"
   ]
  },
  {
   "cell_type": "markdown",
   "metadata": {},
   "source": [
    "- 장점\n",
    "    - 그래디언트 부스팅 결정 트리는 지도 학습에서 가장 강력하고 널리 사용\n",
    "    - 특성의 스케일 조정 필요 없고, 연석적인 특성에서도 잘 동작\n",
    "- 단점\n",
    "    - 매개변수 조정을 잘 해야 하고, 훈련 시간이 김\n",
    "    - 트리기반 특성상 고차원 데이터에는 잘 작동하지 않음\n",
    "- 매개변수\n",
    "> - n_estimators가 클수록 모델이 복잡해지고 과대적합이 될 가능성이 높음\n",
    "> - learning_rate를 낮추면 비슷한 복잡도의 모델을 만들기 위해 더 많은 트리 추가 필요\n",
    " > - n_estimators를 맞추고 나서 적절한 learning_rate를 찾는것이 좋음\n",
    " > - max_depth는 5보다 깊어지지 않게 하기"
   ]
  },
  {
   "cell_type": "markdown",
   "metadata": {},
   "source": [
    "# 그래디언트 부스팅 회귀"
   ]
  },
  {
   "cell_type": "code",
   "execution_count": 16,
   "metadata": {},
   "outputs": [],
   "source": [
    "from sklearn.ensemble import GradientBoostingRegressor"
   ]
  },
  {
   "cell_type": "code",
   "execution_count": 17,
   "metadata": {},
   "outputs": [],
   "source": [
    "gbr = GradientBoostingRegressor()"
   ]
  },
  {
   "cell_type": "code",
   "execution_count": 18,
   "metadata": {},
   "outputs": [
    {
     "data": {
      "text/plain": [
       "GradientBoostingRegressor()"
      ]
     },
     "execution_count": 18,
     "metadata": {},
     "output_type": "execute_result"
    }
   ],
   "source": [
    "gbr.fit(X_train, y_train)"
   ]
  },
  {
   "cell_type": "code",
   "execution_count": 20,
   "metadata": {},
   "outputs": [
    {
     "name": "stdout",
     "output_type": "stream",
     "text": [
      "0.14393546949021085\n",
      "0.12540283591292212\n"
     ]
    }
   ],
   "source": [
    "print(gbr.score(X_train, y_train))\n",
    "print(gbr.score(X_test, y_test))"
   ]
  },
  {
   "cell_type": "code",
   "execution_count": 21,
   "metadata": {},
   "outputs": [],
   "source": [
    "y_predict = gbr.predict(X_test)"
   ]
  },
  {
   "cell_type": "code",
   "execution_count": 22,
   "metadata": {},
   "outputs": [
    {
     "name": "stdout",
     "output_type": "stream",
     "text": [
      "0.0022707856549566666\n"
     ]
    }
   ],
   "source": [
    "print(y_predict[0])"
   ]
  },
  {
   "cell_type": "code",
   "execution_count": 23,
   "metadata": {},
   "outputs": [
    {
     "name": "stdout",
     "output_type": "stream",
     "text": [
      "train 정확도: 0.144\n",
      "test 정확도: 0.125\n"
     ]
    }
   ],
   "source": [
    "print(\"train 정확도: {:.3f}\".format(gbr.score(X_train, y_train)))\n",
    "print(\"test 정확도: {:.3f}\".format(gbr.score(X_test, y_test)))"
   ]
  },
  {
   "cell_type": "markdown",
   "metadata": {},
   "source": [
    "# 랜덤 포레스트 앙상블\n",
    "출처: https://ssoondata.tistory.com/14"
   ]
  },
  {
   "cell_type": "code",
   "execution_count": 24,
   "metadata": {},
   "outputs": [],
   "source": [
    "from sklearn.ensemble import RandomForestClassifier"
   ]
  },
  {
   "cell_type": "code",
   "execution_count": 25,
   "metadata": {},
   "outputs": [
    {
     "data": {
      "text/plain": [
       "RandomForestClassifier(n_estimators=5, random_state=0)"
      ]
     },
     "execution_count": 25,
     "metadata": {},
     "output_type": "execute_result"
    }
   ],
   "source": [
    "X_train, X_test, y_train, y_test = train_test_split(X, y, test_size = 0.3, random_state = 0)\n",
    "\n",
    "forest = RandomForestClassifier(n_estimators=5, random_state=0)\n",
    "forest.fit(X_train, y_train)"
   ]
  },
  {
   "cell_type": "markdown",
   "metadata": {},
   "source": [
    "- n_estimator : 만들 트리 개수\n",
    "- max_features : 사용할 특성의 수\n",
    "- n_job : 사용할 코어 수 지정 가능(=-1로 지정하면 모든 코어 사용) 모델 만들 때 시간이 오래 걸리는 경우\n",
    "- random_state : 지정한 값에 따라 전혀 다른 트리가 만들어져 같은 결과를 만들어야 하면 고정해야함\n",
    "- max_depth: 최대 나무 깊이\n",
    "- max_leaf_nodes: 말단 노드 최대 개수\n",
    "- min_sample_leaf: 노드를 분할하기 위한 최소한 샘플 데이터 수(과적합 제어에 사용)\n",
    "- min_samples_split: 말단 노드가 되기위한 최소한 샘플 수(과적합 제어 용도. 비대칭적 데이터의 경우 특정 클래스 데이터가 극도로 작을 수 있어 이런 경우에는 작게 설정)\n",
    "- 출처: https://velog.io/@lsmmay322/%EA%B2%B0%EC%A0%95%ED%8A%B8%EB%A6%ACDecision-Tree"
   ]
  },
  {
   "cell_type": "code",
   "execution_count": 26,
   "metadata": {},
   "outputs": [
    {
     "data": {
      "text/plain": [
       "RandomForestClassifier(n_estimators=5, random_state=0)"
      ]
     },
     "execution_count": 26,
     "metadata": {},
     "output_type": "execute_result"
    }
   ],
   "source": [
    "RandomForestClassifier(bootstrap=True, class_weight=None, criterion='gini',\n",
    "            max_depth=None, max_features='auto', max_leaf_nodes=None,\n",
    "            min_samples_leaf=1, min_samples_split=2,\n",
    "            n_estimators=5, n_jobs=None, random_state=0)"
   ]
  },
  {
   "cell_type": "code",
   "execution_count": 27,
   "metadata": {},
   "outputs": [
    {
     "name": "stdout",
     "output_type": "stream",
     "text": [
      "훈련 세트 정확도: 1.000\n",
      "테스트 세트 정확도: 0.988\n"
     ]
    }
   ],
   "source": [
    "X_train, X_test, y_train, y_test = train_test_split(\n",
    "    X,y, random_state=0)\n",
    "forest = RandomForestClassifier(n_estimators=100, random_state=0)  # 100개 트리\n",
    "forest.fit(X_train, y_train)\n",
    "\n",
    "print(\"훈련 세트 정확도: {:.3f}\".format(forest.score(X_train, y_train)))\n",
    "print(\"테스트 세트 정확도: {:.3f}\".format(forest.score(X_test, y_test)))"
   ]
  },
  {
   "cell_type": "code",
   "execution_count": 29,
   "metadata": {},
   "outputs": [
    {
     "data": {
      "image/png": "[encoded data removed]",
      "text/plain": [
       "<Figure size 432x288 with 1 Axes>"
      ]
     },
     "metadata": {
      "needs_background": "light"
     },
     "output_type": "display_data"
    },
    {
     "data": {
      "text/plain": [
       "<Figure size 1800x1440 with 0 Axes>"
      ]
     },
     "metadata": {},
     "output_type": "display_data"
    }
   ],
   "source": [
    "def func(model):\n",
    "    n_features = data1.shape[1]\n",
    "    plt.barh(range(n_features), gbr.feature_importances_, align='center')\n",
    "    plt.yticks(np.arange(n_features), data1.columns)\n",
    "    plt.xlabel(\"importances\")\n",
    "    plt.ylabel(\"attr\")\n",
    "    plt.ylim(-1, n_features)\n",
    "    plt.figure(figsize=(25,20))\n",
    "plt.show()\n",
    "\n",
    "func(forest)"
   ]
  },
  {
   "cell_type": "markdown",
   "metadata": {},
   "source": [
    "- 장점\n",
    "> - 성능이 뛰어나고 매개변수 튜닝 없이도 잘 작동\n",
    "> - 데이터의 스케일 맞추지 않아도 되고, 매우 큰 데이터셋에서도 잘 작동\n",
    "- 단점\n",
    "> - 특성의 일부만 사용해서 결정 트리보다 더 깊어질 수 있음\n",
    "> - 수백개의 트리를 자세히 분석하기가 어려움 (간소하게 의사결정과정을 표현해야 하는 경우는 단일 트리로)\n",
    "> - 차원이 매우 높고 희소한 데이터에서는 잘 작동하지 않음 (이럴경우 선형모델 적합하기)\n",
    "> - 많은 메모리를 사용하고 훈련과 예측 시 오래걸림 (속도와 메모리에 제약이 있는 경우 선형 모델 적합)\n",
    "- 높은 성능을 내기 때문에 대부분의 경우에 사용함"
   ]
  }
 ],
 "metadata": {
  "kernelspec": {
   "display_name": "Python 3",
   "language": "python",
   "name": "python3"
  },
  "language_info": {
   "codemirror_mode": {
    "name": "ipython",
    "version": 3
   },
   "file_extension": ".py",
   "mimetype": "text/x-python",
   "name": "python",
   "nbconvert_exporter": "python",
   "pygments_lexer": "ipython3",
   "version": "3.8.5"
  },
  "toc": {
   "base_numbering": 1,
   "nav_menu": {},
   "number_sections": true,
   "sideBar": true,
   "skip_h1_title": false,
   "title_cell": "Table of Contents",
   "title_sidebar": "Contents",
   "toc_cell": false,
   "toc_position": {},
   "toc_section_display": true,
   "toc_window_display": false
  }
 },
 "nbformat": 4,
 "nbformat_minor": 4
}
