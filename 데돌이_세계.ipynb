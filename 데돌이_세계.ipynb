{
 "cells": [
  {
   "cell_type": "markdown",
   "metadata": {},
   "source": [
    "# 데이터 불러오기"
   ]
  },
  {
   "cell_type": "code",
   "execution_count": 1,
   "metadata": {},
   "outputs": [],
   "source": [
    "import pandas as pd\n",
    "import numpy as np\n",
    "import seaborn as sns"
   ]
  },
  {
   "cell_type": "code",
   "execution_count": 3,
   "metadata": {},
   "outputs": [],
   "source": [
    "df1 = pd.read_csv('d/H_alcohol.csv') # 행복_주류소비\n",
    "df2 = pd.read_csv('d/H_GDP2018_19.csv') # 행복_GDP값이 2018년과 2019년 평균\n",
    "df3 = pd.read_csv('d/H_income.csv') # 행복_소득\n",
    "df4 = pd.read_csv('d/H1994_2006.csv') # 행복_1994-2006\n",
    "df5 = pd.read_csv('d/WHP2017.csv') # 행복_2017년\n",
    "df6 = pd.read_csv('d/WHP2017_1.csv') # 행복_2017년_2\n",
    "df7 = pd.read_csv('d/2015.csv') # 행복_2015년\n",
    "df8 = pd.read_csv('d/2016.csv') # 행복_2016년\n",
    "df9 = pd.read_csv('d/2017.csv') # 행복_2017년\n",
    "df10 = pd.read_csv('d/2018.csv') # 행복_2018년\n",
    "df11 = pd.read_csv('d/2019.csv') # 행복_2019년\n",
    "df12 = pd.read_csv('d/2020.csv') # 행복_2020년\n",
    "df13 = pd.read_csv('d/WHP2021.csv') # 행복_2021년"
   ]
  },
  {
   "cell_type": "code",
   "execution_count": null,
   "metadata": {},
   "outputs": [],
   "source": []
  }
 ],
 "metadata": {
  "kernelspec": {
   "display_name": "Python 3",
   "language": "python",
   "name": "python3"
  },
  "language_info": {
   "codemirror_mode": {
    "name": "ipython",
    "version": 3
   },
   "file_extension": ".py",
   "mimetype": "text/x-python",
   "name": "python",
   "nbconvert_exporter": "python",
   "pygments_lexer": "ipython3",
   "version": "3.8.5"
  },
  "toc": {
   "base_numbering": 1,
   "nav_menu": {},
   "number_sections": true,
   "sideBar": true,
   "skip_h1_title": false,
   "title_cell": "Table of Contents",
   "title_sidebar": "Contents",
   "toc_cell": false,
   "toc_position": {},
   "toc_section_display": true,
   "toc_window_display": false
  }
 },
 "nbformat": 4,
 "nbformat_minor": 4
}
