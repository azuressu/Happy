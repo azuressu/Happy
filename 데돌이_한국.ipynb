{
 "cells": [
  {
   "cell_type": "markdown",
   "metadata": {},
   "source": [
    "# 데이터 불러오기"
   ]
  },
  {
   "cell_type": "code",
   "execution_count": 15,
   "metadata": {},
   "outputs": [],
   "source": [
    "import pandas as pd\n",
    "import numpy as np\n",
    "import seaborn as sns"
   ]
  },
  {
   "cell_type": "code",
   "execution_count": 24,
   "metadata": {},
   "outputs": [],
   "source": [
    "df1 = pd.read_csv('d/k_hea.csv') # 건강 데이터\n",
    "df2 = pd.read_csv('d/k_ecn.csv') # 경제 데이터\n",
    "df3 = pd.read_csv('d/k_edu.csv') # 교육 데이터\n",
    "df4 = pd.read_csv('d/k_env.csv') # 환경 데이터\n",
    "df5 = pd.read_csv('d/k_hap.csv') # 행복지수\n",
    "df6 = pd.read_csv('d/k_happy.csv') # 행복지수2\n",
    "df7 = pd.read_csv('d/k_lei.csv') # 여가 데이터\n",
    "df8 = pd.read_csv('d/k_safty.csv') # 안전 데이터\n",
    "df9 = pd.read_csv('d/k_social.csv') # 관계 및 사회성 데이터"
   ]
  },
  {
   "cell_type": "code",
   "execution_count": null,
   "metadata": {},
   "outputs": [],
   "source": []
  },
  {
   "cell_type": "code",
   "execution_count": null,
   "metadata": {},
   "outputs": [],
   "source": []
  }
 ],
 "metadata": {
  "kernelspec": {
   "display_name": "Python 3",
   "language": "python",
   "name": "python3"
  },
  "language_info": {
   "codemirror_mode": {
    "name": "ipython",
    "version": 3
   },
   "file_extension": ".py",
   "mimetype": "text/x-python",
   "name": "python",
   "nbconvert_exporter": "python",
   "pygments_lexer": "ipython3",
   "version": "3.8.5"
  },
  "toc": {
   "base_numbering": 1,
   "nav_menu": {},
   "number_sections": true,
   "sideBar": true,
   "skip_h1_title": false,
   "title_cell": "Table of Contents",
   "title_sidebar": "Contents",
   "toc_cell": false,
   "toc_position": {},
   "toc_section_display": true,
   "toc_window_display": false
  }
 },
 "nbformat": 4,
 "nbformat_minor": 4
}
